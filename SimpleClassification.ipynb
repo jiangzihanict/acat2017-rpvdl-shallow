{
 "cells": [
  {
   "cell_type": "markdown",
   "metadata": {
    "deletable": true,
    "editable": true
   },
   "source": [
    "# ATLAS Basic Classifier for RPV vs. QCD\n",
    "\n",
    "Let's put together a simple (shallow) classifier for the RPV signal.\n",
    "\n",
    "We can try a BDT from sk-learn."
   ]
  },
  {
   "cell_type": "code",
   "execution_count": 1,
   "metadata": {
    "collapsed": false,
    "deletable": true,
    "editable": true
   },
   "outputs": [],
   "source": [
    "# System imports\n",
    "from __future__ import print_function\n",
    "import os\n",
    "\n",
    "# External imports\n",
    "import numpy as np\n",
    "import matplotlib.pyplot as plt\n",
    "from sklearn.preprocessing import StandardScaler\n",
    "from sklearn.pipeline import make_pipeline\n",
    "from sklearn.model_selection import train_test_split\n",
    "from sklearn.linear_model import LogisticRegression\n",
    "from sklearn.svm import SVC\n",
    "\n",
    "# Magic\n",
    "%matplotlib notebook"
   ]
  },
  {
   "cell_type": "markdown",
   "metadata": {
    "deletable": true,
    "editable": true
   },
   "source": [
    "## Prepare the data\n",
    "\n",
    "Let's specify which data files we'll use and prepare some helper code for reading that data."
   ]
  },
  {
   "cell_type": "code",
   "execution_count": 2,
   "metadata": {
    "collapsed": true,
    "deletable": true,
    "editable": true
   },
   "outputs": [],
   "source": [
    "# Cori scratch space\n",
    "#input_dir = os.path.join(os.getenv('SCRATCH'), 'atlasdl', 'prod004')\n",
    "\n",
    "# Project space (for PDSF)\n",
    "input_dir = os.path.join(os.getenv('PROJECT'), 'atlas_dl', 'numpy', 'prod004')"
   ]
  },
  {
   "cell_type": "code",
   "execution_count": 3,
   "metadata": {
    "collapsed": false,
    "deletable": true,
    "editable": true
   },
   "outputs": [
    {
     "name": "stdout",
     "output_type": "stream",
     "text": [
      "\u001b[0m\u001b[00mqcd_JZ10.npz\u001b[0m  \u001b[00mqcd_JZ3.npz\u001b[0m  \u001b[00mqcd_JZ6.npz\u001b[0m  \u001b[00mqcd_JZ9.npz\u001b[0m\r\n",
      "\u001b[00mqcd_JZ11.npz\u001b[0m  \u001b[00mqcd_JZ4.npz\u001b[0m  \u001b[00mqcd_JZ7.npz\u001b[0m  \u001b[00mrpv_1400_850.npz\u001b[0m\r\n",
      "\u001b[00mqcd_JZ12.npz\u001b[0m  \u001b[00mqcd_JZ5.npz\u001b[0m  \u001b[00mqcd_JZ8.npz\u001b[0m\r\n"
     ]
    }
   ],
   "source": [
    "ls $input_dir"
   ]
  },
  {
   "cell_type": "code",
   "execution_count": 4,
   "metadata": {
    "collapsed": false,
    "deletable": true,
    "editable": true
   },
   "outputs": [
    {
     "data": {
      "text/plain": [
       "['/project/projectdirs/atlas/sfarrell/atlas_dl/numpy/prod004/qcd_JZ6.npz',\n",
       " '/project/projectdirs/atlas/sfarrell/atlas_dl/numpy/prod004/rpv_1400_850.npz']"
      ]
     },
     "execution_count": 4,
     "metadata": {},
     "output_type": "execute_result"
    }
   ],
   "source": [
    "#samples = ['qcd_JZ3', 'qcd_JZ4', 'qcd_JZ5', 'qcd_JZ6', 'qcd_JZ7',\n",
    "#           'qcd_JZ8', 'qcd_JZ9', 'qcd_JZ10', 'qcd_JZ11', 'qcd_JZ12',\n",
    "#           'rpv_1400_850']\n",
    "samples = ['qcd_JZ6', 'rpv_1400_850',] \n",
    "sample_files = map(lambda s: os.path.join(input_dir, s + '.npz'), samples)\n",
    "sample_files"
   ]
  },
  {
   "cell_type": "code",
   "execution_count": 5,
   "metadata": {
    "collapsed": true,
    "deletable": true,
    "editable": true
   },
   "outputs": [],
   "source": [
    "def get_file_keys(file_name):\n",
    "    \"\"\"Retrieves the list of keys from an npz file\"\"\"\n",
    "    with np.load(file_name) as f:\n",
    "        keys = f.keys()\n",
    "    return keys\n",
    "\n",
    "def retrieve_data(file_name, *keys):\n",
    "    \"\"\"\n",
    "    A helper function for retrieving some specified arrays from one npz file.\n",
    "    Returns a list of arrays corresponding to the requested key name list.\n",
    "    \"\"\"\n",
    "    with np.load(file_name) as f:\n",
    "        try:\n",
    "            data = [f[key] for key in keys]\n",
    "        except KeyError as err:\n",
    "            print('Requested key not found. Available keys:', f.keys())\n",
    "            raise\n",
    "    return data"
   ]
  },
  {
   "cell_type": "markdown",
   "metadata": {
    "deletable": true,
    "editable": true
   },
   "source": [
    "### Features\n",
    "\n",
    "Which features do we want to use as input to the classifier?\n",
    "- jetxPt, jetxEta, jetxPhi, jetxM with x = [1, 2, 3, 4]\n",
    "  * or should I use the leading 5 jets?\n",
    "  * this might be a good enough start\n",
    "\n",
    "Seems like my jets are already sorted by decreasing pt, so that's useful for extracting the features."
   ]
  },
  {
   "cell_type": "code",
   "execution_count": 6,
   "metadata": {
    "collapsed": false,
    "deletable": true,
    "editable": true
   },
   "outputs": [],
   "source": [
    "def parse_object_features(array, num_objects, default_val=0.):\n",
    "    \"\"\"\n",
    "    Takes an array of object arrays and returns a fixed rank-2 array.\n",
    "    Clips and pads each element as necessary.\n",
    "    Output shape is (array.shape[0], num_objects).\n",
    "    \"\"\"\n",
    "    # Create the output first\n",
    "    length = array.shape[0]\n",
    "    output_array = np.full((length, num_objects), default_val)\n",
    "    # Fill the output\n",
    "    for i in xrange(length):\n",
    "        k = min(num_objects, array[i].size)\n",
    "        output_array[i,:k] = array[i][:k]\n",
    "    return output_array\n",
    "\n",
    "def prepare_sample_features(sample_file, num_jets=3, max_events=None):\n",
    "    print(sample_file)\n",
    "    data = retrieve_data(\n",
    "        sample_file, 'fatJetPt', 'fatJetEta', 'fatJetPhi', 'fatJetM')\n",
    "    num_events = data[0].shape[0]\n",
    "    if max_events is not None and max_events < num_events:\n",
    "        data = [d[:max_events] for d in data]\n",
    "    return np.hstack(parse_object_features(a, num_jets) for a in data)"
   ]
  },
  {
   "cell_type": "code",
   "execution_count": 7,
   "metadata": {
    "collapsed": false,
    "deletable": true,
    "editable": true
   },
   "outputs": [
    {
     "name": "stdout",
     "output_type": "stream",
     "text": [
      "/project/projectdirs/atlas/sfarrell/atlas_dl/numpy/prod004/qcd_JZ6.npz\n",
      "/project/projectdirs/atlas/sfarrell/atlas_dl/numpy/prod004/rpv_1400_850.npz\n"
     ]
    }
   ],
   "source": [
    "ev_per_sample = 500000 #1000\n",
    "sample_features = [prepare_sample_features(f, max_events=ev_per_sample)\n",
    "                   for f in sample_files]\n",
    "sample_labels = [s == 'rpv_1400_850' for s in samples]\n",
    "sample_events = [sf.shape[0] for sf in sample_features]"
   ]
  },
  {
   "cell_type": "code",
   "execution_count": 8,
   "metadata": {
    "collapsed": false,
    "deletable": true,
    "editable": true
   },
   "outputs": [],
   "source": [
    "X = np.concatenate(sample_features)\n",
    "sy = [z*np.ones(nevt) for (z, nevt) in zip(sample_labels, sample_events)]\n",
    "y = np.concatenate(sy)"
   ]
  },
  {
   "cell_type": "code",
   "execution_count": 9,
   "metadata": {
    "collapsed": false,
    "deletable": true,
    "editable": true
   },
   "outputs": [
    {
     "name": "stdout",
     "output_type": "stream",
     "text": [
      "X-y shapes: (1000000, 12) (1000000,)\n",
      "True fraction: 0.5\n"
     ]
    }
   ],
   "source": [
    "print('X-y shapes:', X.shape, y.shape)\n",
    "print('True fraction:', y.mean())"
   ]
  },
  {
   "cell_type": "code",
   "execution_count": 10,
   "metadata": {
    "collapsed": true,
    "deletable": true,
    "editable": true
   },
   "outputs": [],
   "source": [
    "X_train, X_test, y_train, y_test = train_test_split(X, y)"
   ]
  },
  {
   "cell_type": "code",
   "execution_count": 11,
   "metadata": {
    "collapsed": false,
    "deletable": true,
    "editable": true
   },
   "outputs": [
    {
     "name": "stdout",
     "output_type": "stream",
     "text": [
      "Train set accuracy: 0.967921333333\n",
      "Test set accuracy: 0.967868\n"
     ]
    }
   ],
   "source": [
    "clf = make_pipeline(StandardScaler(), LogisticRegression())\n",
    "clf.fit(X_train, y_train)\n",
    "print('Train set accuracy:', clf.score(X_train, y_train))\n",
    "print('Test set accuracy:', clf.score(X_test, y_test))"
   ]
  },
  {
   "cell_type": "code",
   "execution_count": 12,
   "metadata": {
    "collapsed": false,
    "deletable": true,
    "editable": true
   },
   "outputs": [
    {
     "name": "stdout",
     "output_type": "stream",
     "text": [
      "Train set accuracy: 1.0\n",
      "Test set accuracy: 0.952084\n"
     ]
    }
   ],
   "source": [
    "from sklearn.tree import DecisionTreeClassifier\n",
    "clf = make_pipeline(StandardScaler(), DecisionTreeClassifier())\n",
    "clf.fit(X_train, y_train)\n",
    "print('Train set accuracy:', clf.score(X_train, y_train))\n",
    "print('Test set accuracy:', clf.score(X_test, y_test))"
   ]
  },
  {
   "cell_type": "code",
   "execution_count": 13,
   "metadata": {
    "collapsed": false,
    "deletable": true,
    "editable": true
   },
   "outputs": [
    {
     "name": "stdout",
     "output_type": "stream",
     "text": [
      "Train set accuracy: 0.997846666667\n",
      "Test set accuracy: 0.96734\n"
     ]
    }
   ],
   "source": [
    "from sklearn.ensemble import RandomForestClassifier\n",
    "clf = make_pipeline(StandardScaler(), RandomForestClassifier())\n",
    "clf.fit(X_train, y_train)\n",
    "print('Train set accuracy:', clf.score(X_train, y_train))\n",
    "print('Test set accuracy:', clf.score(X_test, y_test))"
   ]
  },
  {
   "cell_type": "code",
   "execution_count": 14,
   "metadata": {
    "collapsed": false,
    "deletable": true,
    "editable": true
   },
   "outputs": [
    {
     "name": "stdout",
     "output_type": "stream",
     "text": [
      "Train set accuracy: 0.969570666667\n",
      "Test set accuracy: 0.968728\n"
     ]
    }
   ],
   "source": [
    "from sklearn.ensemble import GradientBoostingClassifier\n",
    "clf = make_pipeline(StandardScaler(), GradientBoostingClassifier())\n",
    "clf.fit(X_train, y_train)\n",
    "print('Train set accuracy:', clf.score(X_train, y_train))\n",
    "print('Test set accuracy:', clf.score(X_test, y_test))"
   ]
  },
  {
   "cell_type": "code",
   "execution_count": 15,
   "metadata": {
    "collapsed": false,
    "deletable": true,
    "editable": true
   },
   "outputs": [
    {
     "name": "stdout",
     "output_type": "stream",
     "text": [
      "Train set accuracy: 0.972774666667\n",
      "Test set accuracy: 0.97236\n"
     ]
    }
   ],
   "source": [
    "from sklearn.neural_network import MLPClassifier\n",
    "clf = make_pipeline(StandardScaler(), MLPClassifier())\n",
    "clf.fit(X_train, y_train)\n",
    "print('Train set accuracy:', clf.score(X_train, y_train))\n",
    "print('Test set accuracy:', clf.score(X_test, y_test))"
   ]
  },
  {
   "cell_type": "code",
   "execution_count": null,
   "metadata": {
    "collapsed": true,
    "deletable": true,
    "editable": true
   },
   "outputs": [],
   "source": [
    "# SVM scales terribly, takes too long to fit\n",
    "#clf = make_pipeline(StandardScaler(), SVC(verbose=True))\n",
    "#clf.fit(X_train, y_train)\n",
    "#print('Train set accuracy:', clf.score(X_train, y_train))\n",
    "#print('Test set accuracy:', clf.score(X_test, y_test))"
   ]
  }
 ],
 "metadata": {
  "kernelspec": {
   "display_name": "Python 2",
   "language": "python",
   "name": "python2"
  },
  "language_info": {
   "codemirror_mode": {
    "name": "ipython",
    "version": 2
   },
   "file_extension": ".py",
   "mimetype": "text/x-python",
   "name": "python",
   "nbconvert_exporter": "python",
   "pygments_lexer": "ipython2",
   "version": "2.7.12"
  }
 },
 "nbformat": 4,
 "nbformat_minor": 0
}
