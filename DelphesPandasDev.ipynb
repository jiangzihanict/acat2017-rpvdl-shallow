{
 "cells": [
  {
   "cell_type": "markdown",
   "metadata": {},
   "source": [
    "# Pandas development for RPV delphes files\n",
    "\n",
    "I'd like to use this notebook to explore the usage of pandas dataframes for my RPV deep-learning work. I'm wondering if I can possibly simplify the workflow and/or make it more elegant."
   ]
  },
  {
   "cell_type": "code",
   "execution_count": 1,
   "metadata": {},
   "outputs": [
    {
     "data": {
      "application/javascript": [
       "require(['codemirror/mode/clike/clike'], function(Clike) { console.log('ROOTaaS - C++ CodeMirror module loaded'); });"
      ]
     },
     "metadata": {},
     "output_type": "display_data"
    },
    {
     "data": {
      "application/javascript": [
       "IPython.CodeCell.config_defaults.highlight_modes['magic_text/x-c++src'] = {'reg':[/^%%cpp/]};"
      ]
     },
     "metadata": {},
     "output_type": "display_data"
    },
    {
     "name": "stdout",
     "output_type": "stream",
     "text": [
      "Welcome to ROOTaaS 6.06/06\n"
     ]
    }
   ],
   "source": [
    "from __future__ import print_function\n",
    "\n",
    "import numpy as np\n",
    "import pandas as pd\n",
    "\n",
    "import root_numpy as rnp"
   ]
  },
  {
   "cell_type": "markdown",
   "metadata": {},
   "source": [
    "## Loading data in pandas\n",
    "Let's start by playing with just one delphes file"
   ]
  },
  {
   "cell_type": "code",
   "execution_count": 2,
   "metadata": {
    "collapsed": true
   },
   "outputs": [],
   "source": [
    "#input_file = '/global/cscratch1/sd/wbhimji/DelphesOutput/PU-HighRes-2/QCDBkg_JZ5_800_1300-10k-PU-HighRes-2-1-1-1.root'\n",
    "input_file = '/global/cscratch1/sd/wbhimji/DelphesOutput/NoPU/QCDBkg_JZ3_160_400-10k-NoPU-01-01.root'"
   ]
  },
  {
   "cell_type": "code",
   "execution_count": 3,
   "metadata": {
    "collapsed": true
   },
   "outputs": [],
   "source": [
    "# Branch name remapping for convenience\n",
    "branch_dict = {\n",
    "    'Event.Number' : 'eventNumber',\n",
    "    'Event.ProcessID' : 'proc',\n",
    "    'Tower.Eta' : 'clusEta',\n",
    "    'Tower.Phi' : 'clusPhi',\n",
    "    'Tower.E' : 'clusE',\n",
    "    'Tower.Eem' : 'clusEM',\n",
    "    'FatJet.PT' : 'fatJetPt',\n",
    "    'FatJet.Eta' : 'fatJetEta',\n",
    "    'FatJet.Phi' : 'fatJetPhi',\n",
    "    'FatJet.Mass' : 'fatJetM',\n",
    "    'Track.PT' : 'trackPt',\n",
    "    'Track.Eta' : 'trackEta',\n",
    "    'Track.Phi' : 'trackPhi',\n",
    "}"
   ]
  },
  {
   "cell_type": "code",
   "execution_count": 4,
   "metadata": {},
   "outputs": [
    {
     "name": "stderr",
     "output_type": "stream",
     "text": [
      "TClass::Init:0: RuntimeWarning: no dictionary for class HepMCEvent is available\n",
      "TClass::Init:0: RuntimeWarning: no dictionary for class Event is available\n",
      "TClass::Init:0: RuntimeWarning: no dictionary for class GenParticle is available\n",
      "TClass::Init:0: RuntimeWarning: no dictionary for class SortableObject is available\n",
      "TClass::Init:0: RuntimeWarning: no dictionary for class Track is available\n",
      "TClass::Init:0: RuntimeWarning: no dictionary for class Tower is available\n",
      "TClass::Init:0: RuntimeWarning: no dictionary for class Jet is available\n",
      "TClass::Init:0: RuntimeWarning: no dictionary for class MissingET is available\n",
      "TClass::Init:0: RuntimeWarning: no dictionary for class Electron is available\n",
      "TClass::Init:0: RuntimeWarning: no dictionary for class Photon is available\n",
      "TClass::Init:0: RuntimeWarning: no dictionary for class Muon is available\n",
      "TClass::Init:0: RuntimeWarning: no dictionary for class ScalarHT is available\n"
     ]
    }
   ],
   "source": [
    "# Convert ROOT data to numpy\n",
    "data = rnp.root2array(input_file,\n",
    "                      branches=branch_dict.keys(),\n",
    "                      warn_missing_tree=True)\n",
    "\n",
    "data.dtype.names = [branch_dict[n] for n in data.dtype.names]"
   ]
  },
  {
   "cell_type": "markdown",
   "metadata": {},
   "source": [
    "For some reason, the event-level quantities like event number, procID, are returned as arrays. Weird."
   ]
  },
  {
   "cell_type": "markdown",
   "metadata": {},
   "source": [
    "Let's try to build a dataframe of just the jets.\n",
    "\n",
    "How do I do that?\n",
    "\n",
    "Maybe I can start by calculating how many jets are in each event. Then I could create the empty structure of the appropriate size. Then I would loop over events and fill the entries.\n",
    "- however, I'd need to keep track of the start/stop indices when filling the ndarray.\n",
    "\n",
    "Or maybe I can just build the list of arrays with event id and then concatenate everything together.\n",
    "\n",
    "I can use the np.repeat function to specify how many times to repeat each element."
   ]
  },
  {
   "cell_type": "code",
   "execution_count": 5,
   "metadata": {
    "collapsed": true
   },
   "outputs": [],
   "source": [
    "# Flatten the event number array\n",
    "eventNumber = np.concatenate(data['eventNumber'])\n",
    "\n",
    "# A function for counting numbers of objects in each event\n",
    "vec_count_objects = np.vectorize(lambda x: x.shape[0])\n",
    "\n",
    "# Build jets dataframe\n",
    "numJet = vec_count_objects(data['fatJetPt'])\n",
    "jets = pd.DataFrame.from_items([\n",
    "    ('eventNumber', np.repeat(eventNumber, numJet)),\n",
    "    ('pt', np.concatenate(data['fatJetPt'])),\n",
    "    ('eta', np.concatenate(data['fatJetEta'])),\n",
    "    ('phi', np.concatenate(data['fatJetPhi'])),\n",
    "    ('m', np.concatenate(data['fatJetM']))\n",
    "])\n",
    "\n",
    "# Build tracks dataframe\n",
    "numTrack = vec_count_objects(data['trackPt'])\n",
    "tracks = pd.DataFrame.from_items([\n",
    "    ('eventNumber', np.repeat(eventNumber, numTrack)),\n",
    "    ('pt', np.concatenate(data['trackPt'])),\n",
    "    ('eta', np.concatenate(data['trackEta'])),\n",
    "    ('phi', np.concatenate(data['trackPhi']))\n",
    "])\n",
    "\n",
    "# Build clusters dataframe\n",
    "numClus = vec_count_objects(data['clusE'])\n",
    "clusters = pd.DataFrame.from_items([\n",
    "    ('eventNumber', np.repeat(eventNumber, numClus)),\n",
    "    ('E', np.concatenate(data['clusE'])),\n",
    "    ('eta', np.concatenate(data['clusEta'])),\n",
    "    ('phi', np.concatenate(data['clusPhi'])),\n",
    "    ('emE', np.concatenate(data['clusEM'])),\n",
    "])"
   ]
  },
  {
   "cell_type": "code",
   "execution_count": 34,
   "metadata": {},
   "outputs": [],
   "source": [
    "# An event summary dataframe\n",
    "events = pd.DataFrame.from_items([\n",
    "    ('eventNumber', eventNumber),\n",
    "    ('proc', np.concatenate(data['proc'])),\n",
    "])"
   ]
  },
  {
   "cell_type": "code",
   "execution_count": 36,
   "metadata": {},
   "outputs": [
    {
     "data": {
      "text/html": [
       "<div>\n",
       "<table border=\"1\" class=\"dataframe\">\n",
       "  <thead>\n",
       "    <tr style=\"text-align: right;\">\n",
       "      <th></th>\n",
       "      <th>eventNumber</th>\n",
       "      <th>proc</th>\n",
       "    </tr>\n",
       "  </thead>\n",
       "  <tbody>\n",
       "    <tr>\n",
       "      <th>0</th>\n",
       "      <td>0</td>\n",
       "      <td>113</td>\n",
       "    </tr>\n",
       "    <tr>\n",
       "      <th>1</th>\n",
       "      <td>1</td>\n",
       "      <td>111</td>\n",
       "    </tr>\n",
       "    <tr>\n",
       "      <th>2</th>\n",
       "      <td>2</td>\n",
       "      <td>111</td>\n",
       "    </tr>\n",
       "    <tr>\n",
       "      <th>3</th>\n",
       "      <td>3</td>\n",
       "      <td>113</td>\n",
       "    </tr>\n",
       "    <tr>\n",
       "      <th>4</th>\n",
       "      <td>4</td>\n",
       "      <td>111</td>\n",
       "    </tr>\n",
       "  </tbody>\n",
       "</table>\n",
       "</div>"
      ],
      "text/plain": [
       "   eventNumber  proc\n",
       "0            0   113\n",
       "1            1   111\n",
       "2            2   111\n",
       "3            3   113\n",
       "4            4   111"
      ]
     },
     "execution_count": 36,
     "metadata": {},
     "output_type": "execute_result"
    }
   ],
   "source": [
    "events.head()"
   ]
  },
  {
   "cell_type": "code",
   "execution_count": 35,
   "metadata": {},
   "outputs": [
    {
     "data": {
      "text/html": [
       "<div>\n",
       "<table border=\"1\" class=\"dataframe\">\n",
       "  <thead>\n",
       "    <tr style=\"text-align: right;\">\n",
       "      <th></th>\n",
       "      <th>eventNumber</th>\n",
       "      <th>pt</th>\n",
       "      <th>eta</th>\n",
       "      <th>phi</th>\n",
       "      <th>m</th>\n",
       "    </tr>\n",
       "  </thead>\n",
       "  <tbody>\n",
       "    <tr>\n",
       "      <th>0</th>\n",
       "      <td>0</td>\n",
       "      <td>236.330170</td>\n",
       "      <td>2.028603</td>\n",
       "      <td>-0.947379</td>\n",
       "      <td>53.839207</td>\n",
       "    </tr>\n",
       "    <tr>\n",
       "      <th>1</th>\n",
       "      <td>0</td>\n",
       "      <td>178.687531</td>\n",
       "      <td>-2.278885</td>\n",
       "      <td>2.245858</td>\n",
       "      <td>32.170280</td>\n",
       "    </tr>\n",
       "    <tr>\n",
       "      <th>2</th>\n",
       "      <td>0</td>\n",
       "      <td>26.583904</td>\n",
       "      <td>1.460624</td>\n",
       "      <td>1.658434</td>\n",
       "      <td>9.518490</td>\n",
       "    </tr>\n",
       "    <tr>\n",
       "      <th>3</th>\n",
       "      <td>1</td>\n",
       "      <td>178.356033</td>\n",
       "      <td>-2.581952</td>\n",
       "      <td>1.303750</td>\n",
       "      <td>56.339207</td>\n",
       "    </tr>\n",
       "    <tr>\n",
       "      <th>4</th>\n",
       "      <td>1</td>\n",
       "      <td>108.546700</td>\n",
       "      <td>1.307942</td>\n",
       "      <td>-2.464099</td>\n",
       "      <td>41.645054</td>\n",
       "    </tr>\n",
       "  </tbody>\n",
       "</table>\n",
       "</div>"
      ],
      "text/plain": [
       "   eventNumber          pt       eta       phi          m\n",
       "0            0  236.330170  2.028603 -0.947379  53.839207\n",
       "1            0  178.687531 -2.278885  2.245858  32.170280\n",
       "2            0   26.583904  1.460624  1.658434   9.518490\n",
       "3            1  178.356033 -2.581952  1.303750  56.339207\n",
       "4            1  108.546700  1.307942 -2.464099  41.645054"
      ]
     },
     "execution_count": 35,
     "metadata": {},
     "output_type": "execute_result"
    }
   ],
   "source": [
    "jets.head()"
   ]
  },
  {
   "cell_type": "markdown",
   "metadata": {},
   "source": [
    "## Physics selections"
   ]
  },
  {
   "cell_type": "code",
   "execution_count": 7,
   "metadata": {
    "collapsed": true
   },
   "outputs": [],
   "source": [
    "class units():\n",
    "    GeV = 1\n",
    "\n",
    "class cuts():\n",
    "    # Object selection\n",
    "    fatjet_pt_min = 200*units.GeV\n",
    "    fatjet_eta_max = 2.\n",
    "    # Baseline event selection\n",
    "    baseline_num_fatjet_min = 3\n",
    "    baseline_fatjet_pt_min = 440*units.GeV\n",
    "    # Signal region event selection\n",
    "    sr_deta12_max = 1.4\n",
    "    sr4j_mass_min = 800*units.GeV\n",
    "    sr5j_mass_min = 600*units.GeV"
   ]
  },
  {
   "cell_type": "code",
   "execution_count": 8,
   "metadata": {
    "collapsed": true
   },
   "outputs": [],
   "source": [
    "def select_jets(jets):\n",
    "    return ((jets.pt > cuts.fatjet_pt_min) &\n",
    "            (np.abs(jets.eta) < cuts.fatjet_eta_max))"
   ]
  },
  {
   "cell_type": "code",
   "execution_count": 21,
   "metadata": {},
   "outputs": [],
   "source": [
    "selected_jets_mask = select_jets(jets)\n",
    "selected_jets = jets[selected_jets_mask]"
   ]
  },
  {
   "cell_type": "code",
   "execution_count": 22,
   "metadata": {},
   "outputs": [
    {
     "data": {
      "text/plain": [
       "0    False\n",
       "1    False\n",
       "2    False\n",
       "3    False\n",
       "4    False\n",
       "5    False\n",
       "6     True\n",
       "7    False\n",
       "8    False\n",
       "9    False\n",
       "dtype: bool"
      ]
     },
     "execution_count": 22,
     "metadata": {},
     "output_type": "execute_result"
    }
   ],
   "source": [
    "selected_jets_mask.head(10)"
   ]
  },
  {
   "cell_type": "code",
   "execution_count": 26,
   "metadata": {},
   "outputs": [
    {
     "data": {
      "text/plain": [
       "(6288, (6288, 5))"
      ]
     },
     "execution_count": 26,
     "metadata": {},
     "output_type": "execute_result"
    }
   ],
   "source": [
    "selected_jets_mask.sum(), selected_jets.shape"
   ]
  },
  {
   "cell_type": "markdown",
   "metadata": {},
   "source": [
    "Ok, so I can perform jet selection, but how do I turn this into event selection?\n",
    "\n",
    "I need to be able to count the number of selected jets in each event. Then I need to be able to turn that into a per-event decision. Then I need to be able to filter all of the object dataframes with it.\n",
    "\n",
    "Maybe I could filter the object df first, and count the objects using a groupby command."
   ]
  },
  {
   "cell_type": "code",
   "execution_count": 52,
   "metadata": {},
   "outputs": [
    {
     "data": {
      "text/html": [
       "<div>\n",
       "<table border=\"1\" class=\"dataframe\">\n",
       "  <thead>\n",
       "    <tr style=\"text-align: right;\">\n",
       "      <th></th>\n",
       "      <th>numJet</th>\n",
       "    </tr>\n",
       "    <tr>\n",
       "      <th>eventNumber</th>\n",
       "      <th></th>\n",
       "    </tr>\n",
       "  </thead>\n",
       "  <tbody>\n",
       "    <tr>\n",
       "      <th>2</th>\n",
       "      <td>1</td>\n",
       "    </tr>\n",
       "    <tr>\n",
       "      <th>4</th>\n",
       "      <td>1</td>\n",
       "    </tr>\n",
       "    <tr>\n",
       "      <th>5</th>\n",
       "      <td>1</td>\n",
       "    </tr>\n",
       "    <tr>\n",
       "      <th>8</th>\n",
       "      <td>1</td>\n",
       "    </tr>\n",
       "    <tr>\n",
       "      <th>11</th>\n",
       "      <td>1</td>\n",
       "    </tr>\n",
       "  </tbody>\n",
       "</table>\n",
       "</div>"
      ],
      "text/plain": [
       "             numJet\n",
       "eventNumber        \n",
       "2                 1\n",
       "4                 1\n",
       "5                 1\n",
       "8                 1\n",
       "11                1"
      ]
     },
     "execution_count": 52,
     "metadata": {},
     "output_type": "execute_result"
    }
   ],
   "source": [
    "selected_jets.groupby('eventNumber').size().to_frame('numJet').head()"
   ]
  },
  {
   "cell_type": "code",
   "execution_count": 43,
   "metadata": {
    "collapsed": true
   },
   "outputs": [],
   "source": [
    "events.merge?"
   ]
  },
  {
   "cell_type": "code",
   "execution_count": 48,
   "metadata": {},
   "outputs": [
    {
     "data": {
      "text/html": [
       "<div>\n",
       "<table border=\"1\" class=\"dataframe\">\n",
       "  <thead>\n",
       "    <tr style=\"text-align: right;\">\n",
       "      <th></th>\n",
       "      <th>eventNumber</th>\n",
       "      <th>proc</th>\n",
       "      <th>numJet</th>\n",
       "    </tr>\n",
       "  </thead>\n",
       "  <tbody>\n",
       "    <tr>\n",
       "      <th>2</th>\n",
       "      <td>2</td>\n",
       "      <td>111</td>\n",
       "      <td>1</td>\n",
       "    </tr>\n",
       "    <tr>\n",
       "      <th>4</th>\n",
       "      <td>4</td>\n",
       "      <td>111</td>\n",
       "      <td>1</td>\n",
       "    </tr>\n",
       "    <tr>\n",
       "      <th>5</th>\n",
       "      <td>5</td>\n",
       "      <td>113</td>\n",
       "      <td>1</td>\n",
       "    </tr>\n",
       "    <tr>\n",
       "      <th>8</th>\n",
       "      <td>8</td>\n",
       "      <td>113</td>\n",
       "      <td>1</td>\n",
       "    </tr>\n",
       "    <tr>\n",
       "      <th>11</th>\n",
       "      <td>11</td>\n",
       "      <td>111</td>\n",
       "      <td>1</td>\n",
       "    </tr>\n",
       "  </tbody>\n",
       "</table>\n",
       "</div>"
      ],
      "text/plain": [
       "    eventNumber  proc  numJet\n",
       "2             2   111       1\n",
       "4             4   111       1\n",
       "5             5   113       1\n",
       "8             8   113       1\n",
       "11           11   111       1"
      ]
     },
     "execution_count": 48,
     "metadata": {},
     "output_type": "execute_result"
    }
   ],
   "source": [
    "temp = events.merge(selected_jets.groupby('eventNumber').size().to_frame('numJet'),\n",
    "                    left_on='eventNumber', right_index=True)\n",
    "\n",
    "temp.head()"
   ]
  },
  {
   "cell_type": "code",
   "execution_count": 53,
   "metadata": {
    "collapsed": true
   },
   "outputs": [],
   "source": [
    "# This only works for now because event number is the same as the RangeIndex.\n",
    "events['numJet'] = selected_jets.groupby('eventNumber').size()"
   ]
  },
  {
   "cell_type": "code",
   "execution_count": 57,
   "metadata": {},
   "outputs": [
    {
     "data": {
      "text/plain": [
       "26"
      ]
     },
     "execution_count": 57,
     "metadata": {},
     "output_type": "execute_result"
    }
   ],
   "source": [
    "(events.numJet >= 3).sum()"
   ]
  }
 ],
 "metadata": {
  "kernelspec": {
   "display_name": "deeplearning",
   "language": "python",
   "name": "deeplearning"
  },
  "language_info": {
   "codemirror_mode": {
    "name": "ipython",
    "version": 2
   },
   "file_extension": ".py",
   "mimetype": "text/x-python",
   "name": "python",
   "nbconvert_exporter": "python",
   "pygments_lexer": "ipython2",
   "version": "2.7.12"
  }
 },
 "nbformat": 4,
 "nbformat_minor": 1
}
